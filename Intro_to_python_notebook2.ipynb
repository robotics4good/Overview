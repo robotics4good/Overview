{
  "nbformat": 4,
  "nbformat_minor": 0,
  "metadata": {
    "colab": {
      "provenance": [],
      "include_colab_link": true
    },
    "kernelspec": {
      "name": "python3",
      "display_name": "Python 3"
    },
    "language_info": {
      "name": "python"
    }
  },
  "cells": [
    {
      "cell_type": "markdown",
      "metadata": {
        "id": "view-in-github",
        "colab_type": "text"
      },
      "source": [
        "<a href=\"https://colab.research.google.com/github/robotics4good/Overview/blob/master/Intro_to_python_notebook2.ipynb\" target=\"_parent\"><img src=\"https://colab.research.google.com/assets/colab-badge.svg\" alt=\"Open In Colab\"/></a>"
      ]
    },
    {
      "cell_type": "markdown",
      "source": [
        "# **Lists and Methods and Functions**"
      ],
      "metadata": {
        "id": "i-CtLJ_CIJjx"
      }
    },
    {
      "cell_type": "markdown",
      "source": [
        "In notebook 1 from last week we explored the programming concepts of variables, lists and conditionals. Let's look a bit more at lists as we move ahead with notebook 2 this week. As we start exploring lists further in the next exercises, we will encounter the concept of a method.\n",
        "\n",
        "In Python, for any specific data-type ( strings, booleans, lists, etc. ) there is built-in functionality that we can use to create, manipulate, and even delete our data. We call this built-in functionality a method.\n",
        "\n",
        "For lists, methods will follow the form of list_name.method(). Some methods will require an input value that will go between the parenthesis of the method ( ).\n",
        "\n",
        "##Growing a List\n",
        "\n",
        "An example of a popular list method is .append(), which allows us to add an element to the end of a list."
      ],
      "metadata": {
        "id": "tic0CeP4IQKC"
      }
    },
    {
      "cell_type": "code",
      "source": [
        "# A program that creates a list and uses the append method to add a value 5 to the list\n",
        "example_list = [1,2,3,4]\n",
        "\n",
        "#Using Append\n",
        "example_list.append(5)\n",
        "print(example_list)"
      ],
      "metadata": {
        "id": "byJq7xV0IPRR",
        "outputId": "d165fb70-0841-4531-bb3f-1dd6c8f1bce0",
        "colab": {
          "base_uri": "https://localhost:8080/"
        }
      },
      "execution_count": null,
      "outputs": [
        {
          "output_type": "stream",
          "name": "stdout",
          "text": [
            "[1, 2, 3, 4, 5]\n"
          ]
        }
      ]
    },
    {
      "cell_type": "markdown",
      "source": [
        "Now imagine you are programming a farming robot to walk through a veggie garden. Lets create a list called robot_walk to track the vegetables the robot encounters as it wanders about the garden. The robot first sees tomatoes, carrots and okra. But then as it continues walking it sees peas, and later potatoes. Append to the list writing code using the append method to list all the veggies the robot sees along the way."
      ],
      "metadata": {
        "id": "nbSmqXmxKpaw"
      }
    },
    {
      "cell_type": "code",
      "source": [
        "# Making a list of all the veggies the robot sees on a walk in the garden\n",
        "\n",
        "robot_walk = [\"tomatoes\", \"carrots\", \"okra\"]\n",
        "\n",
        "#Add your code here\n",
        "\n",
        "print(robot_walk)"
      ],
      "metadata": {
        "id": "Q8BCo0q-NPuE",
        "outputId": "76cbf8dc-04c6-41db-888b-cb5f96a600ed",
        "colab": {
          "base_uri": "https://localhost:8080/"
        }
      },
      "execution_count": null,
      "outputs": [
        {
          "output_type": "stream",
          "name": "stdout",
          "text": [
            "['tomatoes', 'carrots', 'okra']\n"
          ]
        }
      ]
    },
    {
      "cell_type": "markdown",
      "source": [
        "## Growing a List with Plus\n",
        "\n",
        "When we want to add multiple items to a list, we can use + to combine two lists (this is also known as concatenation)."
      ],
      "metadata": {
        "id": "XV5d81wNP_UK"
      }
    },
    {
      "cell_type": "code",
      "source": [
        "# A program that uses the + to add a value 5 to the list\n",
        "example_list = [1,2,3,4]\n",
        "\n",
        "#Using plus\n",
        "example_list_new = example_list + [5]\n",
        "\n",
        "print(example_list_new)\n",
        "\n",
        "#Once done running this cell once, try uncommenting the code below by removing the # and run the code cell again to see how lists can be combined.\n",
        "#combined_example_list = example_list_new + example_list\n",
        "#print(combined_example_list)"
      ],
      "metadata": {
        "id": "FZbn_y3xQRMS",
        "outputId": "6f234de8-8889-4fba-f6aa-da06836ff371",
        "colab": {
          "base_uri": "https://localhost:8080/"
        }
      },
      "execution_count": null,
      "outputs": [
        {
          "output_type": "stream",
          "name": "stdout",
          "text": [
            "[1, 2, 3, 4, 5]\n"
          ]
        }
      ]
    },
    {
      "cell_type": "markdown",
      "source": [
        "Going back to the wandering robot who now encounters some cabbages and kale along its walk, go ahead and add those elements to the end of the robot_walk list below using the plus operation."
      ],
      "metadata": {
        "id": "FmTarpEVQqFk"
      }
    },
    {
      "cell_type": "code",
      "source": [
        "# Write your code below to add cabbages and kale to the robot_walk list\n"
      ],
      "metadata": {
        "id": "YLCOM8N7RbBd"
      },
      "execution_count": null,
      "outputs": []
    },
    {
      "cell_type": "markdown",
      "source": [
        "Now if you wanted to remove list elements, how would you do that? Give that a thought(or maybe google it!) and you can give it a go in the blank code cell below and remove the last element from the robot_walk list."
      ],
      "metadata": {
        "id": "WrZIu3rMxtYG"
      }
    },
    {
      "cell_type": "code",
      "source": [
        "# Write"
      ],
      "metadata": {
        "id": "Fz7i3WFCx5pN"
      },
      "execution_count": null,
      "outputs": []
    },
    {
      "cell_type": "markdown",
      "source": [
        "Now that we know how to create, add to and combine lists, we still have to go about knowing how to access specific elements of the list. This calls for understanding the concept of indices.\n",
        "\n",
        "In Python, we call the location of an element in a list its index. Python lists are zero-indexed. This means that the first element in a list has index 0, rather than 1. In the list example_list defined above, the element with index 2 is the value 3.\n",
        "\n",
        "Go on play around with the list you created called robot_walk to understand how to access the elements individually using the respective index."
      ],
      "metadata": {
        "id": "rpWNuOKSx83Y"
      }
    },
    {
      "cell_type": "code",
      "source": [
        "# In the code below, go ahead and plug in values one at a time: 0, 1, 2, -1 , 10 to see what output you get printed out.\n",
        "#Ask your instructor why you got that output if you dont understand why\n",
        "print(robot_walk[0])"
      ],
      "metadata": {
        "id": "JmeVjQuH4M6Z"
      },
      "execution_count": null,
      "outputs": []
    },
    {
      "cell_type": "markdown",
      "source": [
        "# **Loops**"
      ],
      "metadata": {
        "id": "HsIW-LpPEXp3"
      }
    },
    {
      "cell_type": "markdown",
      "source": [
        "In our everyday lives, we tend to repeat a lot of processes without noticing.\n",
        "\n",
        "For instance, if we want to go from one location to another, we might have to head out the door and make many turns before we get to our destination. We may walk forward, turn left, then right, walk forward, then right, walk forward, then left again and so on till we get there.\n",
        "\n",
        "If we break down our navigation task into a series of three smaller steps, we have:\n",
        "\n",
        "**An initialization:** *We’re ready to head out so we walk forward.*\n",
        "\n",
        "**A repetition:** *We keep moving forward, making turns left and right, and moving on one step at a time.*\n",
        "\n",
        "**An end condition:** *We see that we have reached our destination and we stop.*\n",
        "\n",
        "In programming, this process of using an initialization, repetitions, and an ending condition is called a loop. In a loop, we perform a process of iteration (repeating tasks).\n",
        "\n",
        "Programming languages like Python implement two types of iteration:\n",
        "\n",
        "*Indefinite iteration*, where the number of times the loop is executed depends on how many times a condition is met.\n",
        "\n",
        "*Definite iteration*, where the number of times the loop will be executed is defined in advance.\n",
        "\n",
        "Typically we will find loops being used to iterate a collection of items. In the above example, we can think of our steps (including turns) taken as a collection. This is a form of definite iteration since we know how long our collection is in advance and thus know how many times we need to iterate over the collection of steps.\n",
        "\n",
        "Some collections might be small — like a short string, while other collections might be massive like a range of numbers from 1 to 10,000,000! But don’t worry, loops give us the ability to masterfully handle both ends of the spectrum. This simple, but powerful, concept saves us a lot of time and makes it easier for us to work with large amounts of data and processes to execute."
      ],
      "metadata": {
        "id": "ZJXTjJE85K5R"
      }
    },
    {
      "cell_type": "markdown",
      "source": [
        "Ok! Now that we have that gotten thru that long passage let's try our hands at working with loops! Imagine you have to print out all the veggies the robot encountered while it was wandering about in the veggie garden. Without loops it might look something like this:"
      ],
      "metadata": {
        "id": "HAqkXH6U7w9i"
      }
    },
    {
      "cell_type": "code",
      "execution_count": null,
      "metadata": {
        "id": "Uf1H8rEBPM-m"
      },
      "outputs": [],
      "source": [
        "# Printing robot_walk list without using a looping statement.\n",
        "\n",
        "print(\"Length of robot_walk list is: \", len(robot_walk)) # len() can be used to find the length of a list\n",
        "print(robot_walk[0])\n",
        "print(robot_walk[1])\n",
        "\n",
        "# Complete the program started in the lines above to print all the elements in the list robot_walk\n",
        "\n"
      ]
    },
    {
      "cell_type": "markdown",
      "source": [
        "##**For Loop**"
      ],
      "metadata": {
        "id": "AJly1019lERY"
      }
    },
    {
      "cell_type": "markdown",
      "source": [
        "Now as you can see without loops we have to repeat the same instruction multiple times to print out all the elements in the list as in this case. Using a loop structure its easier to accomplish this in fewer lines of code. Now that we can appreciate what loops do for us, let’s start with your first type of loop, a for loop, a type of definite iteration.\n",
        "\n",
        "In a for loop, we will know in advance how many times the loop will need to iterate because we will be working on a collection with a predefined length. In our examples, we will be using the robot_walk list as our collection of elements.\n",
        "\n",
        "With for loops, on each iteration, we will be able to perform an action on each element of the collection.\n",
        "\n",
        "Before we work with any collection, let’s examine the general structure of a for loop:\n",
        "\n",
        "for *temporary variable* in *collection*: \\\\\n",
        "    *action*\n",
        "\n",
        "Let’s break down each of these components:\n",
        "\n",
        "1. A for keyword indicates the start of a for loop.\n",
        "2. A *temporary variable* that is used to represent the value of the element in the collection the loop is currently on.\n",
        "3. An in keyword separates the temporary variable from the collection used for iteration.\n",
        "4. A *collection* to loop over. In our examples, we will be using a list.\n",
        "5. An *action* to do anything on each iteration of the loop.\n",
        "\n",
        "Now let's look at an example using the for loop below."
      ],
      "metadata": {
        "id": "HEQtKQo7Q85n"
      }
    },
    {
      "cell_type": "code",
      "source": [
        "# Example of a for loop to iterate through a list of items\n",
        "board_games = [\"Settlers of Catan\", \"Carcassone\", \"Power Grid\", \"Agricola\", \"Scrabble\"]\n",
        "\n",
        "for game in board_games:\n",
        "  print(game)"
      ],
      "metadata": {
        "id": "Osr5BT1Ngaqo"
      },
      "execution_count": null,
      "outputs": []
    },
    {
      "cell_type": "markdown",
      "source": [
        "Now give it a go yourself by using a for loop to print all the elements of the robot_walk list below."
      ],
      "metadata": {
        "id": "5SlKrHewiI0N"
      }
    },
    {
      "cell_type": "code",
      "source": [
        "#Write code using a for loop to print all the elements of the robot_walk list\n",
        "\n"
      ],
      "metadata": {
        "id": "s-YfdaVCiRvt"
      },
      "execution_count": null,
      "outputs": []
    },
    {
      "cell_type": "markdown",
      "source": [
        "**Indentation:**\n",
        "\n",
        "Notice that in all of these examples the print statement is indented. Everything at the same level of indentation after the for loop declaration is included in the loop body and is run on every iteration of the loop. If we ever forget to indent, we’ll get an **IndentationError** or unexpected behavior."
      ],
      "metadata": {
        "id": "ldLqvAXliZ_n"
      }
    },
    {
      "cell_type": "markdown",
      "source": [
        "**Using Range in Loops**"
      ],
      "metadata": {
        "id": "r3JWY8tdlKeg"
      }
    },
    {
      "cell_type": "markdown",
      "source": [
        "Often we won’t be iterating through a specific list (or any collection), but rather only want to perform a certain action multiple times.\n",
        "\n",
        "For example, if we wanted to print out a \"Learning Loops!\" message six times using a for loop, we would follow this structure:"
      ],
      "metadata": {
        "id": "QPZp0HSnlPg-"
      }
    },
    {
      "cell_type": "code",
      "source": [
        "six_steps = range(6)\n",
        "\n",
        "# six_steps is now a collection with 6 elements:\n",
        "# 0, 1, 2, 3, 4, 5\n",
        "\n",
        "for temp in range(6):\n",
        "  print(\"Learning Loops!\")"
      ],
      "metadata": {
        "id": "AELlpUcllaEU"
      },
      "execution_count": null,
      "outputs": []
    },
    {
      "cell_type": "markdown",
      "source": [
        "Something to note is we are not using temp anywhere inside of the loop body. If we are curious about which loop iteration (step) we are on, we can use temp to track it. Since our range starts at 0, we will add + 1 to our temp to represent how many iterations (steps) our loop takes more accurately."
      ],
      "metadata": {
        "id": "oCLX96gClvsW"
      }
    },
    {
      "cell_type": "code",
      "source": [
        "# The program below also prints the number of repetitions of the for loop using temp that keeps count of the loop iteration\n",
        "for temp in range(6):\n",
        "  print(\"Loop is on iteration number \" + str(temp + 1))\n"
      ],
      "metadata": {
        "id": "38xBcZRJlzXV"
      },
      "execution_count": null,
      "outputs": []
    },
    {
      "cell_type": "markdown",
      "source": [
        "##**While Loops**"
      ],
      "metadata": {
        "id": "Qh64Qfy8mQOT"
      }
    },
    {
      "cell_type": "markdown",
      "source": [
        "In Python, for loops are not the only type of loops we can use. Another type of loop is called a while loop and is a form of indefinite iteration.\n",
        "\n",
        "A while loop performs a set of instructions as long as a given condition is true.\n",
        "\n",
        "The structure follows this pattern:\n",
        "while *conditional statement*: \\\\\n",
        "  *action*\n",
        "\n",
        "Let’s examine this example, where we print the integers 0 through 3:"
      ],
      "metadata": {
        "id": "KD5nDQT0mqsm"
      }
    },
    {
      "cell_type": "code",
      "source": [
        "count = 0\n",
        "while count <= 3:\n",
        "  # Loop Body\n",
        "  print(count)\n",
        "  count += 1\n"
      ],
      "metadata": {
        "id": "nIzW-6vZm3dU"
      },
      "execution_count": null,
      "outputs": []
    },
    {
      "cell_type": "markdown",
      "source": [
        "Go ahead and give the same task of printing out the elements of the robot_walk list a go, except this time lets use a while loop. Since you will be printing out elements of the list, you are going to need to know when to stop the loop. This would be the length of the list. Secondly, you will need to use an index variable to access each element of the list individually. Okay, okay, we will get you started by declaring the variables you need in the code below, but go ahead and try to implement the while loop by yourselves."
      ],
      "metadata": {
        "id": "jymalJTSm929"
      }
    },
    {
      "cell_type": "code",
      "source": [
        "# Program to print all the elements of the robot_walk list using a while loop\n",
        "\n",
        "length =  len(robot_walk)\n",
        "index = 0\n",
        "# write your while loop code below (remember you have your instructor to seek help if you dont know what to do here)\n",
        "\n"
      ],
      "metadata": {
        "id": "y8nKcvNQp3eI"
      },
      "execution_count": null,
      "outputs": []
    },
    {
      "cell_type": "markdown",
      "source": [
        "## **Infinite loops, Yikes!**\n",
        "We’ve iterated through lists using a while loop that have a discrete beginning and end. However, let’s consider this example:"
      ],
      "metadata": {
        "id": "GoxQ9lb1qy_C"
      }
    },
    {
      "cell_type": "code",
      "source": [
        "#Whats happening in the code below? Tip: You might have to click on the stop button on this cell to eventually stop the execution.\n",
        "my_favorite_numbers = [4, 8, 15, 16, 42]\n",
        "\n",
        "for number in my_favorite_numbers:\n",
        "  my_favorite_numbers.append(1)\n",
        "\n",
        "print(\"Loop has ended!\")"
      ],
      "metadata": {
        "id": "_CHdxOyCrSo-"
      },
      "execution_count": null,
      "outputs": []
    },
    {
      "cell_type": "markdown",
      "source": [
        "Follow up Question: What is happening in the code above when you try to execute it? Provide your answer in the cell below"
      ],
      "metadata": {
        "id": "somvAFstrvv5"
      }
    },
    {
      "cell_type": "markdown",
      "source": [
        "Answer:"
      ],
      "metadata": {
        "id": "-ssNK_XbsA3q"
      }
    },
    {
      "cell_type": "markdown",
      "source": [
        "A loop that never terminates is called an infinite loop. These are very dangerous for our code because they will make our program run forever and thus consume all of your computer’s resources.\n",
        "\n",
        "A program that hits an infinite loop often becomes completely unusable. The best course of action is to avoid writing an infinite loop."
      ],
      "metadata": {
        "id": "OXlyYgCqsVLC"
      }
    },
    {
      "cell_type": "markdown",
      "source": [
        "## **Nested Loops**\n",
        "\n",
        "Loops can be nested in Python, as they can with other programming languages. We will find certain situations that require nested loops.\n",
        "\n",
        "Suppose we are in charge of a science class, that is split into three project teams:"
      ],
      "metadata": {
        "id": "ZXdnD_d1uZLZ"
      }
    },
    {
      "cell_type": "code",
      "source": [
        "project_teams = [[\"Ava\", \"Samantha\", \"James\"], [\"Lucille\", \"Zed\"], [\"Edgar\", \"Gabriel\"]]\n",
        "\n",
        "#Using a for or while loop can be useful here to get each team\n",
        "for team in project_teams:\n",
        "  print(team)\n"
      ],
      "metadata": {
        "id": "fEPl35upsI4b"
      },
      "execution_count": null,
      "outputs": []
    },
    {
      "cell_type": "markdown",
      "source": [
        "But what if we wanted to print each individual student? In this case, we would actually need to nest our loops to be able to loop through each sub-list. Here is what it would look like:"
      ],
      "metadata": {
        "id": "CS4ab4KjvEm_"
      }
    },
    {
      "cell_type": "code",
      "source": [
        "# Loop through each sublist\n",
        "for team in project_teams:\n",
        "  # Loop elements in each sublist\n",
        "  for student in team:\n",
        "    print(student)\n"
      ],
      "metadata": {
        "id": "Dj9lwZnbvHva"
      },
      "execution_count": null,
      "outputs": []
    },
    {
      "cell_type": "markdown",
      "source": [
        "You will use a lot of nested loops in your projects during this course. Make yourself familiar with the structure of how to create and use them.\n",
        "\n",
        "Let's work on a modified version of the robot_walk list given below that lists the veggies the robot encounters along with the count of the veggies of each type it sees. Your task would be to create a subloop to take count of the total number of veggies the robot has seen on its walk and to print it out."
      ],
      "metadata": {
        "id": "EjBScEZHwf3q"
      }
    },
    {
      "cell_type": "code",
      "source": [
        "# List below provides veggies and their count as seen by the robot on its walk through the garden\n",
        "robot_walk_n_count = ([\"tomatoes\",5],[\"carrots\", 10],[\"okra\", 12],[\"cabbage\", 3], [\"kale\", 4])\n",
        "\n",
        "veggie_totalcount = 0\n",
        "\n",
        "for veggies in robot_walk_n_count:\n",
        "    print(veggies)\n",
        "#Add your subloop here to count the number of veggies and assign it to veggie_totalcount\n",
        "\n",
        "\n",
        "print(veggie_totalcount)"
      ],
      "metadata": {
        "id": "Pgf8Oo4nxiv9"
      },
      "execution_count": null,
      "outputs": []
    },
    {
      "cell_type": "markdown",
      "source": [
        "# **Functions**\n",
        "\n",
        "In programming, as we start to write bigger and more complex programs, one thing we will start to notice is we will often have to repeat the same set of steps in many different places in our program.\n",
        "\n",
        "Functions are a convenient way to group our code into reusable blocks. A function contains a sequence of steps that can be performed repeatedly throughout a program without having to repeat the process of writing the same code again.\n",
        "\n",
        "Let’s imagine we were building an application to help people plan trips! When using a trip planning application we can say a simple procedure could look like this:\n",
        " 1. Establish your origin and destination\n",
        " 2. Calculate the distance/route\n",
        " 3. Return the best route to the user\n",
        "\n",
        "We will perform these three steps every time users have to travel between two points using our trip application. In our programs, we could rewrite the same procedures over and over (and over) for each time we want to travel, but there’s a better way! Python gives us [functions](https://www.codecademy.com/resources/docs/python/functions?page_ref=catalog).\n",
        "\n",
        "In this section, we are going to explore the idea of a function by slowly building out a Python program for our trip planning steps!\n",
        "\n",
        "At the end of this lesson, you’ll know how to:\n",
        "\n",
        "Write a function and return values from it.\n",
        "Allow functions to take custom input.\n",
        "Experiment with how functions access our other python code.\n",
        "\n"
      ],
      "metadata": {
        "id": "LCd-JHUUyxkd"
      }
    },
    {
      "cell_type": "markdown",
      "source": [
        "Working Example: We are going to use a user defined function we can call navigation_steps() that will perform the 3 tasks listed above.\n",
        "\n",
        "Assume the following case:\n",
        "a very simple version that plans a trip between two popular San Diego tourist destinations might look like this:"
      ],
      "metadata": {
        "id": "nsExfxlP0Ngi"
      }
    },
    {
      "cell_type": "code",
      "source": [
        "print(\"Setting Old Town as the starting point and Little Italy as our destination.\")\n",
        "\n",
        "print(\"Calculating the total distance between our points.\")\n",
        "\n",
        "print(\"The best route is by trolley and will take approximately 20 minutes.\")"
      ],
      "metadata": {
        "id": "P5jpTrUw1BlX"
      },
      "execution_count": null,
      "outputs": []
    },
    {
      "cell_type": "markdown",
      "source": [
        "Anytime we want to go between these two points we would need to run these three print statements (for now we can assume the best route and time will stay the same).\n",
        "\n",
        "If our program now had 100 new people trying to find the best directions between the Empire State Building and Times Square, we would need to run each of our three print statements 100 times!\n",
        "\n",
        "Now, if you’re thinking about using a loop here, your intuition would be totally right! Unfortunately, we won’t be always traveling between the same two locations which means a loop won’t be as effective when we want to customize a trip. We will address this in the upcoming section!"
      ],
      "metadata": {
        "id": "Ab3zNFRN1q2Q"
      }
    },
    {
      "cell_type": "markdown",
      "source": [
        "## **Defining a Function**\n",
        "\n",
        "A function consists of many parts, so let’s first get familiar with its core - a function definition.\n",
        "\n",
        "Here’s an example of a function definition:"
      ],
      "metadata": {
        "id": "_2cEqCO42G_9"
      }
    },
    {
      "cell_type": "code",
      "source": [
        "def trip_welcome():\n",
        "  print(\"Welcome to San Diego Trip Planner!\")\n",
        "  print(\"Let's get you to your destination.\")"
      ],
      "metadata": {
        "id": "aUBO2hwX2nTm"
      },
      "execution_count": null,
      "outputs": []
    },
    {
      "cell_type": "markdown",
      "source": [
        "So now we have defined a function called trip_welcome() using the def command and populated the body of the function with two actions to print two statements.\n",
        "\n",
        "Note: Clicking Run above will result in an empty output terminal. The print() statements within the function will not execute since our function hasn’t been used. so our next step would be to call this function."
      ],
      "metadata": {
        "id": "Tpelk9Sz26_y"
      }
    },
    {
      "cell_type": "markdown",
      "source": [
        "To call our function, we must type out the function’s name followed by a pair of parentheses and no indentation.\n",
        "\n",
        "*Followup question*:\n",
        "Run the cell below and report what you see in the output now."
      ],
      "metadata": {
        "id": "6Vj79JSz4Kdq"
      }
    },
    {
      "cell_type": "code",
      "source": [
        "trip_welcome()"
      ],
      "metadata": {
        "id": "My2-sZYk4gmI"
      },
      "execution_count": null,
      "outputs": []
    },
    {
      "cell_type": "markdown",
      "source": [
        "What do you see? Answer:"
      ],
      "metadata": {
        "id": "GI31wfP04lod"
      }
    },
    {
      "cell_type": "markdown",
      "source": [
        "Ok your turn. Go ahead and create a function called trip_planner() and print the following instructions:\n",
        "1. Take the Blue line trolley from Old Town trolley station\n",
        "2. Get off at the Little Italy trolley stop\n",
        "3. Enjoy exploring Little Italy, take a lot of pictures!"
      ],
      "metadata": {
        "id": "fGoB0CXE5Dsi"
      }
    },
    {
      "cell_type": "code",
      "source": [
        "# Write your function definition below"
      ],
      "metadata": {
        "id": "w8-RtL715cbN"
      },
      "execution_count": null,
      "outputs": []
    },
    {
      "cell_type": "markdown",
      "source": [
        "Now go ahead and call the function to print out the function body"
      ],
      "metadata": {
        "id": "CSh8u_vN6ElW"
      }
    },
    {
      "cell_type": "code",
      "source": [
        "#Write your function call here"
      ],
      "metadata": {
        "id": "uqoTF_2A6Jb8"
      },
      "execution_count": null,
      "outputs": []
    },
    {
      "cell_type": "markdown",
      "source": [
        "We are going to help our trip planner users figure out if they should travel today based on the weather. Let’s let our users know we can check the weather for them. Write an if conditional inside the weather_check() function below to check whether it is going to rain or not. Print \"Carry an umbrella\" if it is going to rain today."
      ],
      "metadata": {
        "id": "XIJxEN3g6T5x"
      }
    },
    {
      "cell_type": "code",
      "source": [
        "# Writing a function to check whether it is going to rain or not today\n",
        "rainy = False\n",
        "def weather_check():\n"
      ],
      "metadata": {
        "id": "uZCPUJys6tt2"
      },
      "execution_count": null,
      "outputs": []
    },
    {
      "cell_type": "markdown",
      "source": [
        "Now that you have done that lets try to nest the weather_check() and trip_planner() functions inside the trip_welcome() function."
      ],
      "metadata": {
        "id": "bboU2cxF7ynU"
      }
    },
    {
      "cell_type": "code",
      "source": [
        "# Writing the trip_welcome() with nested function calls\n",
        "\n",
        "#Function definition\n",
        "def trip_welcome():\n",
        "  print(\"Welcome to San Diego Trip Planner!\")\n",
        "  print(\"Let's get you to your destination.\")\n",
        "  trip_planner()\n",
        "  weather_check()\n",
        "\n",
        "#Function call\n",
        "trip_welcome()"
      ],
      "metadata": {
        "id": "uM6pRJ6T8TE-"
      },
      "execution_count": null,
      "outputs": []
    },
    {
      "cell_type": "markdown",
      "source": [
        "But we think we can do one better. Instead of having to hard code the status of the rain by indicating true or false in the variable rainy above, we can ask the user for an input and pass that as an argument to weather_check() function.\n",
        "\n",
        "Here's what thats gonna look like:"
      ],
      "metadata": {
        "id": "WAkv3izD7O4J"
      }
    },
    {
      "cell_type": "code",
      "source": [
        "rainy = input(\"Is it rainy today?(True or False)\")\n",
        "\n",
        "\n",
        "#Function definition modification for weather_check()\n",
        "\n",
        "def weather_check(rainStatus):\n",
        "    if(rainStatus == \"True\"):\n",
        "      return (\"Carry an umbrella\")\n",
        "    else:\n",
        "      return (\"Its sunny out!\")\n",
        "\n",
        "\n",
        "#Function definition\n",
        "def trip_welcome():\n",
        "  print(\"Welcome to San Diego Trip Planner!\")\n",
        "  print(\"Let's get you to your destination.\")\n",
        "  trip_planner()\n",
        "  status = weather_check(rainy)\n",
        "  print(status)\n",
        "\n",
        "#Function call\n",
        "trip_welcome()"
      ],
      "metadata": {
        "id": "xsYf9UB99-nW"
      },
      "execution_count": null,
      "outputs": []
    },
    {
      "cell_type": "markdown",
      "source": [
        "Phew! That threw us a curve ball with the argument passing to the function and return value dident it? Please take as long as you need and ask as many questions to your instructor as you would like to really get a grasp on the code above. Its gonna be very critical for you to completely understand this for all the projects in this course this quarter.\n",
        "\n",
        "Ok, here your final task for this trip planning program. There are more than one ways to use public transit to get from Old Town to Little Italy. I suspect there might be a bus that can take us there too! Go ahead and look on your map application on your phone to see what other public transit options you may have to go between Old Town and Little Italy.\n",
        "\n",
        "I found a bus that works as an alternative, did you find that too? If so, go ahead and lets give the user the option to choose if they want to take the trolley or the bus and provide instructions accordindly.\n",
        "\n",
        "Write code modifying the functions above to seek user input to choose mode_of_transit and write conditional statements in the trip_planner() function to provide instructions accordingly by picking from the choice of mode_of_transit argument passed to the trip_planner() function."
      ],
      "metadata": {
        "id": "5ieiLdlZBdKD"
      }
    },
    {
      "cell_type": "code",
      "source": [
        "#Write your program below modifying the trip planner function and call the trip_welcome() again to check if your code works as intended!\n"
      ],
      "metadata": {
        "id": "tk4OA6XcC_uv"
      },
      "execution_count": null,
      "outputs": []
    },
    {
      "cell_type": "markdown",
      "source": [
        "#**Improved version of the Random Guessing Game**"
      ],
      "metadata": {
        "id": "prEVixk7gc_i"
      }
    },
    {
      "cell_type": "markdown",
      "source": [
        "Let's circle back to the guessing the number game from last notebook. What do you notice about the game this time?"
      ],
      "metadata": {
        "id": "uDDDjKs9Q9Qp"
      }
    },
    {
      "cell_type": "code",
      "source": [
        "import random\n",
        "\n",
        "# Generate a random number between 1 and 10\n",
        "number_to_guess = random.randint(1, 10)\n",
        "\n",
        "# Initialize the number of attempts\n",
        "attempts = 0\n",
        "\n",
        "while True:\n",
        "    # Increment the number of attempts\n",
        "    attempts += 1\n",
        "\n",
        "    # Get the player's guess\n",
        "    guess = int(input(\"Guess a number between 1 and 10: \"))\n",
        "\n",
        "    # Check if the guess is correct\n",
        "    if guess == number_to_guess:\n",
        "        print(f\"Congratulations! You guessed the number in {attempts} attempts.\")\n",
        "        break\n",
        "    elif guess < number_to_guess:\n",
        "        print(\"The number is higher. Try again!\")\n",
        "    else:\n",
        "        print(\"The number is lower. Try again!\")\n",
        "\n"
      ],
      "metadata": {
        "id": "iUqr43OXRDQp"
      },
      "execution_count": null,
      "outputs": []
    },
    {
      "cell_type": "markdown",
      "source": [
        "What is this `while` keyword? How does this loop work? Please try to explain it in plain english, without any fancy coding terms. What is the code doing?"
      ],
      "metadata": {
        "id": "W-o3BEKbRPaY"
      }
    },
    {
      "cell_type": "markdown",
      "source": [
        "**Add an answer here:**"
      ],
      "metadata": {
        "id": "3j2oljsERnPI"
      }
    },
    {
      "cell_type": "markdown",
      "source": [
        "Ok now consider this scenario:\n",
        "You have a toy box, and inside the toy box, you have different toys. Each toy has its own special function. For example, one toy might be a wind-up car that moves when you wind it up, another might be a toy robot that dances when you press a button.\n",
        "\n",
        "In the world of programming, we have something similar to these toys, and we call them functions. A function is like a toy that does a specific job when you \"activate\" it.\n",
        "\n",
        "What is a Function?\n",
        "Imagine you have a magic box (we'll call it a function). Every time you put something into the box and close the lid, the box does some magic and gives you back something new.\n",
        "\n",
        "For example, let's say our magic box turns any fruit you put inside into juice. If you put an apple inside, you get apple juice. If you put an orange, you get orange juice.\n",
        "\n",
        "In programming, this magic box is called a function. You give it something (we call this an input), and it gives you back something new (we call this an output).\n",
        "\n",
        "Making Our Game More Fun with Functions:\n",
        "Right now, our game always asks you to guess a number between 1 and 10. But what if we want to guess between 1 and 20? Or 1 and 100?\n",
        "\n",
        "Let's use our magic box (function) to let the player decide!\n",
        "\n",
        "Here's how we can do it:\n",
        "\n",
        "We'll create a magic box (function) named guess_the_number.\n",
        "This magic box will ask the player: \"What's the highest number you want to guess up to?\"\n",
        "The player might say 20, 50, or any number they like.\n",
        "Our game will then let the player guess a number between 1 and the number they chose.\n",
        "Here's what our magic box (function) will look like:\n",
        "\n"
      ],
      "metadata": {
        "id": "qOd9z6tnRpi2"
      }
    },
    {
      "cell_type": "code",
      "source": [
        "import random\n",
        "\n",
        "def guess_the_number(max_number):\n",
        "    # Generate a random number between 1 and the chosen number\n",
        "    number_to_guess = random.randint(1, max_number)\n",
        "\n",
        "    # Initialize the number of attempts\n",
        "    attempts = 0\n",
        "\n",
        "    while True:\n",
        "        # Increment the number of attempts\n",
        "        attempts += 1\n",
        "\n",
        "        # Get the player's guess\n",
        "        guess = int(input(f\"Guess a number between 1 and {max_number}: \"))\n",
        "\n",
        "        # Check if the guess is correct\n",
        "        if guess == number_to_guess:\n",
        "            print(f\"Congratulations! You guessed the number in {attempts} attempts.\")\n",
        "            break\n",
        "        elif guess < number_to_guess:\n",
        "            print(\"The number is higher. Try again!\")\n",
        "        else:\n",
        "            print(\"The number is lower. Try again!\")\n",
        "\n",
        "# Ask the player the highest number they want to guess up to\n",
        "top_number = int(input(\"What's the highest number you want to guess up to? \"))\n",
        "guess_the_number(top_number)\n"
      ],
      "metadata": {
        "id": "td691RQZTL2L"
      },
      "execution_count": null,
      "outputs": []
    },
    {
      "cell_type": "markdown",
      "source": [
        "Now, every time you want to play the game, you can just \"activate\" the magic box by calling guess_the_number and telling it the highest number you want to guess up to.\n",
        "\n",
        "And that's how we make our game more fun and introduce the magic of functions! 🎩✨\n",
        "\n",
        "But let's be honest. There is no magic here. Functions are an important part of programming and while they can be diffiuclt to master, they are completely approachable. And you, yes you can get a handle on them.\n",
        "\n",
        "Try to write, again in plain english, what the code above is doing. Specifically how the function has changed the code from the previous iteration:"
      ],
      "metadata": {
        "id": "zUo5GgDdTnkk"
      }
    },
    {
      "cell_type": "markdown",
      "source": [
        "**Add an Answer Here:**"
      ],
      "metadata": {
        "id": "ILwkSxWxUD5R"
      }
    }
  ]
}